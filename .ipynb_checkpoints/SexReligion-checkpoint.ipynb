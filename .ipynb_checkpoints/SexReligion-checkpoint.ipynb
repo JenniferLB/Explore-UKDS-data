{
 "cells": [
  {
   "cell_type": "code",
   "execution_count": 1,
   "id": "91d343f7",
   "metadata": {
    "scrolled": true
   },
   "outputs": [
    {
     "name": "stderr",
     "output_type": "stream",
     "text": [
      "Installing package into 'C:/Users/rjpra/OneDrive/Documents/R/win-library/4.1'\n",
      "(as 'lib' is unspecified)\n",
      "\n"
     ]
    },
    {
     "name": "stdout",
     "output_type": "stream",
     "text": [
      "package 'janitor' successfully unpacked and MD5 sums checked\n",
      "\n",
      "The downloaded binary packages are in\n",
      "\tC:\\Users\\rjpra\\AppData\\Local\\Temp\\Rtmpa0zXBe\\downloaded_packages\n"
     ]
    },
    {
     "name": "stderr",
     "output_type": "stream",
     "text": [
      "Installing package into 'C:/Users/rjpra/OneDrive/Documents/R/win-library/4.1'\n",
      "(as 'lib' is unspecified)\n",
      "\n"
     ]
    },
    {
     "name": "stdout",
     "output_type": "stream",
     "text": [
      "package 'tidyverse' successfully unpacked and MD5 sums checked\n",
      "\n",
      "The downloaded binary packages are in\n",
      "\tC:\\Users\\rjpra\\AppData\\Local\\Temp\\Rtmpa0zXBe\\downloaded_packages\n"
     ]
    }
   ],
   "source": [
    "install.packages (\"janitor\")\n",
    "install.packages(\"tidyverse\")"
   ]
  },
  {
   "cell_type": "code",
   "execution_count": 2,
   "id": "a7175722",
   "metadata": {},
   "outputs": [
    {
     "name": "stderr",
     "output_type": "stream",
     "text": [
      "\n",
      "Attaching package: 'janitor'\n",
      "\n",
      "\n",
      "The following objects are masked from 'package:stats':\n",
      "\n",
      "    chisq.test, fisher.test\n",
      "\n",
      "\n",
      "-- \u001b[1mAttaching packages\u001b[22m ------------------------------------------------------------------------------- tidyverse 1.3.1 --\n",
      "\n",
      "\u001b[32mv\u001b[39m \u001b[34mggplot2\u001b[39m 3.3.5     \u001b[32mv\u001b[39m \u001b[34mpurrr  \u001b[39m 0.3.4\n",
      "\u001b[32mv\u001b[39m \u001b[34mtibble \u001b[39m 3.1.3     \u001b[32mv\u001b[39m \u001b[34mdplyr  \u001b[39m 1.0.7\n",
      "\u001b[32mv\u001b[39m \u001b[34mtidyr  \u001b[39m 1.1.3     \u001b[32mv\u001b[39m \u001b[34mstringr\u001b[39m 1.4.0\n",
      "\u001b[32mv\u001b[39m \u001b[34mreadr  \u001b[39m 2.0.0     \u001b[32mv\u001b[39m \u001b[34mforcats\u001b[39m 0.5.1\n",
      "\n",
      "-- \u001b[1mConflicts\u001b[22m ---------------------------------------------------------------------------------- tidyverse_conflicts() --\n",
      "\u001b[31mx\u001b[39m \u001b[34mdplyr\u001b[39m::\u001b[32mfilter()\u001b[39m masks \u001b[34mstats\u001b[39m::filter()\n",
      "\u001b[31mx\u001b[39m \u001b[34mdplyr\u001b[39m::\u001b[32mlag()\u001b[39m    masks \u001b[34mstats\u001b[39m::lag()\n",
      "\n"
     ]
    }
   ],
   "source": [
    "library(janitor)\n",
    "library (tidyverse)\n"
   ]
  },
  {
   "cell_type": "markdown",
   "id": "108ee145",
   "metadata": {},
   "source": [
    "# Sex and Religion \n",
    "\n",
    "In the past, sex has been institutionalized within marriage and was broadly condemned by society.  However, over the last three decades, due to the secularization of society and sexual and contraceptive revolutions, the British public has mostly separated sexual intercourse and procreation.  Sexuality has become a more common medium of intimacy outside of marriage.  \n",
    "\n",
    "Religion, if important to an individual, can be a dominant influence on sexual behavior. For example, Christianity condemns promiscuity (casual sex) and teaches that sex should exclusively take place within marriage, as the purpose is to procreate. Many fundamentalist religious beliefs maintain that sex should serve gods will; the purpose of deepening love between a married couple and procreation.  \n",
    "\n",
    "However, since religious identity has fallen in recent decades (52% of Brits didn’t identify with a religion (First BSA)), views on sex, same-sex relationships, and traditional marriage have become increasingly liberal. Along with the advents of dating apps such as Tindr, the normalization of hook-up culture, attitudes towards and the stigmatization of casual sex is changing.  This shift may suggest our data follows the trend that the more important a person holds their religious beliefs the less likely they are to believe that sex without love is okay.  \n",
    "\n",
    "Although most religion remain constant on their stances on sexual behaviors, generational shifts within attitudes towards sex and casual sex leave scope for discovering how much influence religious beliefs still have on individuals attitudes towards sex without love.  "
   ]
  },
  {
   "cell_type": "markdown",
   "id": "a4fe1d19",
   "metadata": {},
   "source": [
    "# Data\n",
    "\n",
    "Natsal -3 is the third survey carried out by investigators which explores up to date information on sexual behaviors and the trends in sexual activity of the British population.  \n",
    "\n",
    "The natsal survey collects data on attitudes towards sexual relationships, including sexual relationships without love, opinions on one night stands, whether people are under too much pressure to have sex etc.  These attitudinal variables can be analyzed in relation to other variables, such as gender, sexual identity or religion in order to draw conclusions that are generalizable to the wider population which can be used to inform further research or policy making.  "
   ]
  },
  {
   "cell_type": "markdown",
   "id": "c6b5c624",
   "metadata": {},
   "source": [
    "Below is some code to open the dataset and print a list of the variables. \n"
   ]
  },
  {
   "cell_type": "code",
   "execution_count": 3,
   "id": "8dd296b2",
   "metadata": {},
   "outputs": [],
   "source": [
    "setwd(\"C:/Users/rjpra/OneDrive/Documents/GitHub/Explore-UKDS-data/Data\")\n",
    "ntsl3 <- haven::read_sav(\"UKDA-8786-spss/spss/spss25/natsal_3_teaching_open.sav\")\n",
    "\n",
    "#turn into factors\n",
    "ntsl3$religimp <- as_factor(ntsl3$religimp) \n",
    "ntsl3$snnolov <- as_factor(ntsl3$snnolov) \n",
    "\n",
    "# deal with missing values \n",
    "ntsl3$snnolov <-recode_factor(ntsl3$snnolov, \"Don't know\" = NA_character_)\n",
    "\n"
   ]
  },
  {
   "cell_type": "markdown",
   "id": "a9dfe7ae",
   "metadata": {},
   "source": [
    "How many variables are there?"
   ]
  },
  {
   "cell_type": "code",
   "execution_count": 4,
   "id": "bd519b4b",
   "metadata": {},
   "outputs": [
    {
     "data": {
      "text/html": [
       "20"
      ],
      "text/latex": [
       "20"
      ],
      "text/markdown": [
       "20"
      ],
      "text/plain": [
       "[1] 20"
      ]
     },
     "metadata": {},
     "output_type": "display_data"
    },
    {
     "data": {
      "text/html": [
       "<style>\n",
       ".list-inline {list-style: none; margin:0; padding: 0}\n",
       ".list-inline>li {display: inline-block}\n",
       ".list-inline>li:not(:last-child)::after {content: \"\\00b7\"; padding: 0 .5ex}\n",
       "</style>\n",
       "<ol class=list-inline><li>'agrp'</li><li>'rsex'</li><li>'ethnicgrpr'</li><li>'sexidr'</li><li>'rnssecgp_6'</li><li>'adj_imd_quintile'</li><li>'rwcasual'</li><li>'snnolov'</li><li>'snpres'</li><li>'snold'</li><li>'snsexdrv'</li><li>'snmedia'</li><li>'snearly'</li><li>'attconservative'</li><li>'dage1ch'</li><li>'disabil2'</li><li>'depscr'</li><li>'religimp'</li><li>'relstatr'</li><li>'total_wt'</li></ol>\n"
      ],
      "text/latex": [
       "\\begin{enumerate*}\n",
       "\\item 'agrp'\n",
       "\\item 'rsex'\n",
       "\\item 'ethnicgrpr'\n",
       "\\item 'sexidr'\n",
       "\\item 'rnssecgp\\_6'\n",
       "\\item 'adj\\_imd\\_quintile'\n",
       "\\item 'rwcasual'\n",
       "\\item 'snnolov'\n",
       "\\item 'snpres'\n",
       "\\item 'snold'\n",
       "\\item 'snsexdrv'\n",
       "\\item 'snmedia'\n",
       "\\item 'snearly'\n",
       "\\item 'attconservative'\n",
       "\\item 'dage1ch'\n",
       "\\item 'disabil2'\n",
       "\\item 'depscr'\n",
       "\\item 'religimp'\n",
       "\\item 'relstatr'\n",
       "\\item 'total\\_wt'\n",
       "\\end{enumerate*}\n"
      ],
      "text/markdown": [
       "1. 'agrp'\n",
       "2. 'rsex'\n",
       "3. 'ethnicgrpr'\n",
       "4. 'sexidr'\n",
       "5. 'rnssecgp_6'\n",
       "6. 'adj_imd_quintile'\n",
       "7. 'rwcasual'\n",
       "8. 'snnolov'\n",
       "9. 'snpres'\n",
       "10. 'snold'\n",
       "11. 'snsexdrv'\n",
       "12. 'snmedia'\n",
       "13. 'snearly'\n",
       "14. 'attconservative'\n",
       "15. 'dage1ch'\n",
       "16. 'disabil2'\n",
       "17. 'depscr'\n",
       "18. 'religimp'\n",
       "19. 'relstatr'\n",
       "20. 'total_wt'\n",
       "\n",
       "\n"
      ],
      "text/plain": [
       " [1] \"agrp\"             \"rsex\"             \"ethnicgrpr\"       \"sexidr\"          \n",
       " [5] \"rnssecgp_6\"       \"adj_imd_quintile\" \"rwcasual\"         \"snnolov\"         \n",
       " [9] \"snpres\"           \"snold\"            \"snsexdrv\"         \"snmedia\"         \n",
       "[13] \"snearly\"          \"attconservative\"  \"dage1ch\"          \"disabil2\"        \n",
       "[17] \"depscr\"           \"religimp\"         \"relstatr\"         \"total_wt\"        "
      ]
     },
     "metadata": {},
     "output_type": "display_data"
    }
   ],
   "source": [
    "ncol(ntsl3)\n",
    "colnames (ntsl3)\n"
   ]
  },
  {
   "cell_type": "markdown",
   "id": "eb6b4f91",
   "metadata": {},
   "source": [
    "## How religious are we?\n",
    "\n",
    "The survey asks those taking part about the importance of religion and religious beliefs. \n",
    "\n",
    "Let's look at the responses using a frequency table. \n",
    "\n",
    "*Data tip: Frequency tables are an easy way to display the distribution of data, specifically nominal and ordinal variables.*  "
   ]
  },
  {
   "cell_type": "code",
   "execution_count": 5,
   "id": "7c7e4f09",
   "metadata": {},
   "outputs": [
    {
     "data": {
      "text/html": [
       "<table class=\"dataframe\">\n",
       "<caption>A tabyl: 5 × 3</caption>\n",
       "<thead>\n",
       "\t<tr><th></th><th scope=col>ntsl3$religimp</th><th scope=col>n</th><th scope=col>percent</th></tr>\n",
       "\t<tr><th></th><th scope=col>&lt;chr&gt;</th><th scope=col>&lt;dbl&gt;</th><th scope=col>&lt;chr&gt;</th></tr>\n",
       "</thead>\n",
       "<tbody>\n",
       "\t<tr><th scope=row>1</th><td>Very important      </td><td> 550</td><td>14.5% </td></tr>\n",
       "\t<tr><th scope=row>2</th><td>Fairly important    </td><td> 935</td><td>24.7% </td></tr>\n",
       "\t<tr><th scope=row>3</th><td>Not very important  </td><td>1102</td><td>29.1% </td></tr>\n",
       "\t<tr><th scope=row>4</th><td>Not important at all</td><td>1194</td><td>31.6% </td></tr>\n",
       "\t<tr><th scope=row>5</th><td>Total               </td><td>3781</td><td>100.0%</td></tr>\n",
       "</tbody>\n",
       "</table>\n"
      ],
      "text/latex": [
       "A tabyl: 5 × 3\n",
       "\\begin{tabular}{r|lll}\n",
       "  & ntsl3\\$religimp & n & percent\\\\\n",
       "  & <chr> & <dbl> & <chr>\\\\\n",
       "\\hline\n",
       "\t1 & Very important       &  550 & 14.5\\% \\\\\n",
       "\t2 & Fairly important     &  935 & 24.7\\% \\\\\n",
       "\t3 & Not very important   & 1102 & 29.1\\% \\\\\n",
       "\t4 & Not important at all & 1194 & 31.6\\% \\\\\n",
       "\t5 & Total                & 3781 & 100.0\\%\\\\\n",
       "\\end{tabular}\n"
      ],
      "text/markdown": [
       "\n",
       "A tabyl: 5 × 3\n",
       "\n",
       "| <!--/--> | ntsl3$religimp &lt;chr&gt; | n &lt;dbl&gt; | percent &lt;chr&gt; |\n",
       "|---|---|---|---|\n",
       "| 1 | Very important       |  550 | 14.5%  |\n",
       "| 2 | Fairly important     |  935 | 24.7%  |\n",
       "| 3 | Not very important   | 1102 | 29.1%  |\n",
       "| 4 | Not important at all | 1194 | 31.6%  |\n",
       "| 5 | Total                | 3781 | 100.0% |\n",
       "\n"
      ],
      "text/plain": [
       "  ntsl3$religimp       n    percent\n",
       "1 Very important        550 14.5%  \n",
       "2 Fairly important      935 24.7%  \n",
       "3 Not very important   1102 29.1%  \n",
       "4 Not important at all 1194 31.6%  \n",
       "5 Total                3781 100.0% "
      ]
     },
     "metadata": {},
     "output_type": "display_data"
    }
   ],
   "source": [
    "religious <- tabyl(ntsl3$religimp, sort = TRUE, show_missing_levels = FALSE, show_na = FALSE)\n",
    "religious %>% \n",
    "  adorn_totals(\"row\") %>%\n",
    "  adorn_pct_formatting()\n",
    "\n"
   ]
  },
  {
   "cell_type": "markdown",
   "id": "67b7fc38",
   "metadata": {},
   "source": [
    "\n",
    " ### Questions\n",
    " \n",
    " * WThe most common response was ‘not important at all’. What percentage gave this response?\n",
    "\n",
    " * What percentage indidicate religion and religious beliefs are very important?"
   ]
  },
  {
   "cell_type": "markdown",
   "id": "9d57baed",
   "metadata": {},
   "source": [
    "# Views about sex\n",
    "\n",
    "## Sex without love\n",
    "\n",
    "How do we know about attitudes abnd behaviour? The survey asked whether it is ok to have sex with someone without being in love with the, from this we can learn about attitudes towards sex. \n",
    "\n"
   ]
  },
  {
   "cell_type": "code",
   "execution_count": 9,
   "id": "8762998c",
   "metadata": {},
   "outputs": [
    {
     "data": {
      "text/html": [
       "<table class=\"dataframe\">\n",
       "<caption>A tabyl: 6 × 3</caption>\n",
       "<thead>\n",
       "\t<tr><th></th><th scope=col>ntsl3$snnolov</th><th scope=col>n</th><th scope=col>percent</th></tr>\n",
       "\t<tr><th></th><th scope=col>&lt;chr&gt;</th><th scope=col>&lt;dbl&gt;</th><th scope=col>&lt;chr&gt;</th></tr>\n",
       "</thead>\n",
       "<tbody>\n",
       "\t<tr><th scope=row>1</th><td>Agree strongly           </td><td> 468</td><td>12.4% </td></tr>\n",
       "\t<tr><th scope=row>2</th><td>Agree                    </td><td>1571</td><td>41.7% </td></tr>\n",
       "\t<tr><th scope=row>3</th><td>Neither agree or disagree</td><td> 904</td><td>24.0% </td></tr>\n",
       "\t<tr><th scope=row>4</th><td>Disagree                 </td><td> 565</td><td>15.0% </td></tr>\n",
       "\t<tr><th scope=row>5</th><td>Disagree strongly        </td><td> 257</td><td>6.8%  </td></tr>\n",
       "\t<tr><th scope=row>6</th><td>Total                    </td><td>3765</td><td>100.0%</td></tr>\n",
       "</tbody>\n",
       "</table>\n"
      ],
      "text/latex": [
       "A tabyl: 6 × 3\n",
       "\\begin{tabular}{r|lll}\n",
       "  & ntsl3\\$snnolov & n & percent\\\\\n",
       "  & <chr> & <dbl> & <chr>\\\\\n",
       "\\hline\n",
       "\t1 & Agree strongly            &  468 & 12.4\\% \\\\\n",
       "\t2 & Agree                     & 1571 & 41.7\\% \\\\\n",
       "\t3 & Neither agree or disagree &  904 & 24.0\\% \\\\\n",
       "\t4 & Disagree                  &  565 & 15.0\\% \\\\\n",
       "\t5 & Disagree strongly         &  257 & 6.8\\%  \\\\\n",
       "\t6 & Total                     & 3765 & 100.0\\%\\\\\n",
       "\\end{tabular}\n"
      ],
      "text/markdown": [
       "\n",
       "A tabyl: 6 × 3\n",
       "\n",
       "| <!--/--> | ntsl3$snnolov &lt;chr&gt; | n &lt;dbl&gt; | percent &lt;chr&gt; |\n",
       "|---|---|---|---|\n",
       "| 1 | Agree strongly            |  468 | 12.4%  |\n",
       "| 2 | Agree                     | 1571 | 41.7%  |\n",
       "| 3 | Neither agree or disagree |  904 | 24.0%  |\n",
       "| 4 | Disagree                  |  565 | 15.0%  |\n",
       "| 5 | Disagree strongly         |  257 | 6.8%   |\n",
       "| 6 | Total                     | 3765 | 100.0% |\n",
       "\n"
      ],
      "text/plain": [
       "  ntsl3$snnolov             n    percent\n",
       "1 Agree strongly             468 12.4%  \n",
       "2 Agree                     1571 41.7%  \n",
       "3 Neither agree or disagree  904 24.0%  \n",
       "4 Disagree                   565 15.0%  \n",
       "5 Disagree strongly          257 6.8%   \n",
       "6 Total                     3765 100.0% "
      ]
     },
     "metadata": {},
     "output_type": "display_data"
    }
   ],
   "source": [
    "Sexwithoutlove <- tabyl(ntsl3$snnolov, sort = TRUE,  show_missing_levels = FALSE, show_na = FALSE)\n",
    "Sexwithoutlove %>%\n",
    "  adorn_totals(\"row\") %>%\n",
    "adorn_pct_formatting()\n"
   ]
  },
  {
   "cell_type": "markdown",
   "id": "f80d5667",
   "metadata": {},
   "source": [
    "### Questions\n",
    "\n",
    "* What percentage agree and disagree with the statement?\n",
    "\n",
    "The responses illustrate how the majority of people (54%) agree or agree strongly that sex without love is ok. "
   ]
  },
  {
   "cell_type": "markdown",
   "id": "876a73d9",
   "metadata": {},
   "source": [
    "### Sexually conservative attitudes\n",
    "\n",
    "Several variables have been synthesised in the data set in order to create a new variable, a scale of conservative attitudes.   \n",
    " \n",
    "\n",
    "In order to explore this varablevariable is associated with how strongly people hold their religious beliefs, a comparison of the means of each religious category will be used. (the mean score of the scaler variable of each different category of the ordinal variable. "
   ]
  },
  {
   "cell_type": "markdown",
   "id": "9bfb1123",
   "metadata": {},
   "source": [
    "Looking at the distribution of scores for the whole sample, we find out that ..."
   ]
  },
  {
   "cell_type": "code",
   "execution_count": 29,
   "id": "f752ad27",
   "metadata": {},
   "outputs": [
    {
     "data": {
      "text/plain": [
       "    Min.  1st Qu.   Median     Mean  3rd Qu.     Max.     NA's \n",
       "-3.88938 -0.67900 -0.02177 -0.01728  0.71396  2.59516      299 "
      ]
     },
     "metadata": {},
     "output_type": "display_data"
    },
    {
     "data": {
      "image/png": "[encoded data removed]",
      "text/plain": [
       "Plot with title \"Histogram of ntsl3$attconservative\""
      ]
     },
     "metadata": {
      "image/png": {
       "height": 420,
       "width": 420
      }
     },
     "output_type": "display_data"
    }
   ],
   "source": [
    "# mean score (and possibly a t-test) \n",
    "hist(ntsl3$attconservative)\n",
    "summary(ntsl3$attconservative, na.rm = T)"
   ]
  },
  {
   "cell_type": "markdown",
   "id": "6e913186",
   "metadata": {},
   "source": [
    "### Questions"
   ]
  },
  {
   "cell_type": "markdown",
   "id": "32c710b5",
   "metadata": {},
   "source": [
    "# Does religion relate to attitudes?\n",
    "\n",
    "We can look at the relationship between religion and attitudes. Are religious people more likely to disagree that sex without love is ok?\n",
    "\n",
    "Running the code below will produce a table showing how the percentage of those agreeing or disagreeing varies by religiosity.\n",
    "\n",
    "*Data tip: Two-way tables or cross-tab provide a way of analysing relationships between variables.  They can reveal associations between the subgroups in the variables.*   \n"
   ]
  },
  {
   "cell_type": "code",
   "execution_count": 6,
   "id": "90ec0244",
   "metadata": {},
   "outputs": [
    {
     "data": {
      "text/html": [
       "<table class=\"dataframe\">\n",
       "<caption>A tabyl: 5 × 5</caption>\n",
       "<thead>\n",
       "\t<tr><th scope=col>snnolov</th><th scope=col>Very important</th><th scope=col>Fairly important</th><th scope=col>Not very important</th><th scope=col>Not important at all</th></tr>\n",
       "\t<tr><th scope=col>&lt;fct&gt;</th><th scope=col>&lt;chr&gt;</th><th scope=col>&lt;chr&gt;</th><th scope=col>&lt;chr&gt;</th><th scope=col>&lt;chr&gt;</th></tr>\n",
       "</thead>\n",
       "<tbody>\n",
       "\t<tr><td>Agree strongly           </td><td>5.5% </td><td>8.5% </td><td>13.2%</td><td>18.0%</td></tr>\n",
       "\t<tr><td>Agree                    </td><td>22.1%</td><td>38.7%</td><td>48.5%</td><td>46.7%</td></tr>\n",
       "\t<tr><td>Neither agree or disagree</td><td>20.0%</td><td>29.7%</td><td>23.6%</td><td>22.0%</td></tr>\n",
       "\t<tr><td>Disagree                 </td><td>27.8%</td><td>17.1%</td><td>11.6%</td><td>10.6%</td></tr>\n",
       "\t<tr><td>Disagree strongly        </td><td>24.6%</td><td>6.0% </td><td>3.1% </td><td>2.8% </td></tr>\n",
       "</tbody>\n",
       "</table>\n"
      ],
      "text/latex": [
       "A tabyl: 5 × 5\n",
       "\\begin{tabular}{lllll}\n",
       " snnolov & Very important & Fairly important & Not very important & Not important at all\\\\\n",
       " <fct> & <chr> & <chr> & <chr> & <chr>\\\\\n",
       "\\hline\n",
       "\t Agree strongly            & 5.5\\%  & 8.5\\%  & 13.2\\% & 18.0\\%\\\\\n",
       "\t Agree                     & 22.1\\% & 38.7\\% & 48.5\\% & 46.7\\%\\\\\n",
       "\t Neither agree or disagree & 20.0\\% & 29.7\\% & 23.6\\% & 22.0\\%\\\\\n",
       "\t Disagree                  & 27.8\\% & 17.1\\% & 11.6\\% & 10.6\\%\\\\\n",
       "\t Disagree strongly         & 24.6\\% & 6.0\\%  & 3.1\\%  & 2.8\\% \\\\\n",
       "\\end{tabular}\n"
      ],
      "text/markdown": [
       "\n",
       "A tabyl: 5 × 5\n",
       "\n",
       "| snnolov &lt;fct&gt; | Very important &lt;chr&gt; | Fairly important &lt;chr&gt; | Not very important &lt;chr&gt; | Not important at all &lt;chr&gt; |\n",
       "|---|---|---|---|---|\n",
       "| Agree strongly            | 5.5%  | 8.5%  | 13.2% | 18.0% |\n",
       "| Agree                     | 22.1% | 38.7% | 48.5% | 46.7% |\n",
       "| Neither agree or disagree | 20.0% | 29.7% | 23.6% | 22.0% |\n",
       "| Disagree                  | 27.8% | 17.1% | 11.6% | 10.6% |\n",
       "| Disagree strongly         | 24.6% | 6.0%  | 3.1%  | 2.8%  |\n",
       "\n"
      ],
      "text/plain": [
       "  snnolov                   Very important Fairly important Not very important\n",
       "1 Agree strongly            5.5%           8.5%             13.2%             \n",
       "2 Agree                     22.1%          38.7%            48.5%             \n",
       "3 Neither agree or disagree 20.0%          29.7%            23.6%             \n",
       "4 Disagree                  27.8%          17.1%            11.6%             \n",
       "5 Disagree strongly         24.6%          6.0%             3.1%              \n",
       "  Not important at all\n",
       "1 18.0%               \n",
       "2 46.7%               \n",
       "3 22.0%               \n",
       "4 10.6%               \n",
       "5 2.8%                "
      ]
     },
     "metadata": {},
     "output_type": "display_data"
    }
   ],
   "source": [
    "SexReligion <- ntsl3 %>% \n",
    "  tabyl(snnolov, religimp, show_missing_levels = FALSE, show_na = FALSE)\n",
    "\n",
    "SexReligion %>%\n",
    "  adorn_percentages(\"col\", na.rm=TRUE) %>%\n",
    "  adorn_pct_formatting(digits = 1) "
   ]
  },
  {
   "cell_type": "markdown",
   "id": "2d95fbeb",
   "metadata": {},
   "source": [
    "### Questions\n"
   ]
  },
  {
   "cell_type": "markdown",
   "id": "6819225e",
   "metadata": {},
   "source": [
    "The table shows the relationship between the participant’s opinion of whether sex without love is okay and whether they consider religious beliefs important to them.  \n",
    "\n",
    "Overall, the cross tabulation follows the predicted pattern the more important the subject considers their religious beliefs, the less likely they were to consider that sex without love is okay.   \n",
    "\n",
    "52.4% of those who state that their religion is very important to them either disagreed of disagreed strongly that sex without love was okay, whilst only 13% of those who considered their religion not important at all either disagreed or disagreed strongly with this statement. These findings align with existing arguments from scholars, for example, Stevens argues that religion contributes to sexually conservative attitudes and therefore the more religious people are the less likely they are to think sex without love is okay.   Religious texts such as the Bible condemn sex before marriage, and religious institution typically adhere to these texts as they value historical wisdom and the status quo. \n",
    "\n",
    " "
   ]
  },
  {
   "cell_type": "markdown",
   "id": "2fb0f7ef",
   "metadata": {},
   "source": [
    "### Do those who are religious have more conservative attitudes? \n",
    "\n",
    "We can also compare scores using our sexually conservative attitudes scale (remember that higher scores mean more conservative attitudes. We expect religious people will have higher scores on average. Does this appear in the data? One way to examine this is to plot the means for each level of religiosity on a bar chart to see how scores vary.  \n"
   ]
  },
  {
   "cell_type": "code",
   "execution_count": 10,
   "id": "6cbb4e57",
   "metadata": {},
   "outputs": [
    {
     "data": {
      "image/png": "[encoded data removed]",
      "text/plain": [
       "plot without title"
      ]
     },
     "metadata": {
      "image/png": {
       "height": 420,
       "width": 420
      }
     },
     "output_type": "display_data"
    }
   ],
   "source": [
    "# Create summary data\n",
    "lr_gen <- ntsl3 %>%\n",
    "    group_by(religimp) %>%\n",
    "  summarize(n = mean(attconservative, na.rm = T))\n",
    "\n",
    "ggplot(data=subset(lr_gen, !is.na(religimp)), aes (x= religimp, y=n)) + \n",
    "geom_bar (aes (fill = religimp), stat =\"identity\") + \n",
    "theme_minimal ()\n"
   ]
  },
  {
   "cell_type": "code",
   "execution_count": null,
   "id": "0b93986d",
   "metadata": {},
   "outputs": [],
   "source": []
  }
 ],
 "metadata": {
  "kernelspec": {
   "display_name": "R",
   "language": "R",
   "name": "ir"
  },
  "language_info": {
   "codemirror_mode": "r",
   "file_extension": ".r",
   "mimetype": "text/x-r-source",
   "name": "R",
   "pygments_lexer": "r",
   "version": "4.1.1"
  }
 },
 "nbformat": 4,
 "nbformat_minor": 5
}
