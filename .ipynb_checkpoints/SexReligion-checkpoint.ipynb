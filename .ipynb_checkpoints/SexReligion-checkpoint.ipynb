{
 "cells": [
  {
   "cell_type": "code",
   "execution_count": 1,
   "id": "91d343f7",
   "metadata": {
    "scrolled": true
   },
   "outputs": [
    {
     "name": "stderr",
     "output_type": "stream",
     "text": [
      "Installing package into 'C:/Users/rjpra/OneDrive/Documents/R/win-library/4.1'\n",
      "(as 'lib' is unspecified)\n",
      "\n"
     ]
    },
    {
     "name": "stdout",
     "output_type": "stream",
     "text": [
      "package 'janitor' successfully unpacked and MD5 sums checked\n",
      "\n",
      "The downloaded binary packages are in\n",
      "\tC:\\Users\\rjpra\\AppData\\Local\\Temp\\Rtmp69eLx9\\downloaded_packages\n"
     ]
    },
    {
     "name": "stderr",
     "output_type": "stream",
     "text": [
      "Installing package into 'C:/Users/rjpra/OneDrive/Documents/R/win-library/4.1'\n",
      "(as 'lib' is unspecified)\n",
      "\n"
     ]
    },
    {
     "name": "stdout",
     "output_type": "stream",
     "text": [
      "package 'tidyverse' successfully unpacked and MD5 sums checked\n",
      "\n",
      "The downloaded binary packages are in\n",
      "\tC:\\Users\\rjpra\\AppData\\Local\\Temp\\Rtmp69eLx9\\downloaded_packages\n"
     ]
    }
   ],
   "source": [
    "install.packages (\"janitor\")\n",
    "install.packages(\"tidyverse\")"
   ]
  },
  {
   "cell_type": "code",
   "execution_count": 5,
   "id": "a7175722",
   "metadata": {},
   "outputs": [
    {
     "name": "stderr",
     "output_type": "stream",
     "text": [
      "\n",
      "Attaching package: 'janitor'\n",
      "\n",
      "\n",
      "The following objects are masked from 'package:stats':\n",
      "\n",
      "    chisq.test, fisher.test\n",
      "\n",
      "\n"
     ]
    }
   ],
   "source": [
    "library (tidyverse)\n",
    "library (janitor)\n"
   ]
  },
  {
   "cell_type": "markdown",
   "id": "0265b974",
   "metadata": {},
   "source": [
    "![](C:/Users/rjpra/OneDrive/Documents/GitHub/Explore-UKDS-data/hands.jpg)"
   ]
  },
  {
   "cell_type": "markdown",
   "id": "108ee145",
   "metadata": {},
   "source": [
    "# Sex and Religion \n",
    "\n"
   ]
  },
  {
   "cell_type": "markdown",
   "id": "e2dbbcd2",
   "metadata": {},
   "source": [
    "During the second half of the twentieth century, sexuality has become a more common medium of intimacy outside of marriage. In this resource, we will explore real data to examine how attitudies towards sex relate to religion."
   ]
  },
  {
   "cell_type": "markdown",
   "id": "2e177b9b",
   "metadata": {},
   "source": [
    "![hands](hands.jpg)"
   ]
  },
  {
   "cell_type": "markdown",
   "id": "bc7514eb",
   "metadata": {},
   "source": [
    "# Topic\n",
    "With sexualityinstitutionalized within marriage, sex outside of marriage was broadly condemned by society. However, with the secularization of society and sexual and contraceptive revolutions, the British public has mostly separated sexual intercourse and procreation. Views on sex, same-sex relationships, and traditional marriage have become increasingly liberal. Along with the advents of dating apps such as Tindr and the normalization of hook-up culture, attitudes towards casual sex are changing. \n",
    "\n",
    "Religion, if important to an individual, can be a dominant influence on sexual behavior. For example, Christianity condemns promiscuity (casual sex) and teaches that sex should exclusively take place within marriage, as the purpose is to procreate. Many religious beliefs maintain that sex should serve gods will by deepening love between a married couple and for procreation. However, religious identity has fallen in recent decades (in 2018, 52% of Brits did not identify with a religion comaprd to 30 percent in 1983, according to the [British Social Attitudes survey](https://www.bsa.natcen.ac.uk/latest-report/british-social-attitudes-36/religion.aspx)). \n",
    "\n",
    "Although most religions remain constant on their stances on sexual behaviors, the dramatic shifts in religiosity and public attitudes towards sex and casual sex leave scope for asking how much influence religious beliefs still have on an individual’s attitudes towards sex without love.  \n",
    "\n",
    "**Let's explore data to find out..**"
   ]
  },
  {
   "cell_type": "markdown",
   "id": "a4fe1d19",
   "metadata": {},
   "source": [
    "# Data \n",
    "\n",
    "## National Survey of Sexual Attitudes and Lifestyles\n",
    "\n",
    "We will use data from the third, National Survey of Sexual Attitudes and Lifestyles (Natsal-3), \n",
    "\n",
    "The British National Surveys of Sexual Attitudes and Lifestyles (Natsal) are some of the largest and most detailed studies of sexual attitudes and behavior in the world. \n",
    "\n",
    "We are going to use a chunk of the data with information about attitudes towards sexual relationships, including sexual relationships without love, opinions on one night stands, whether people are under too much pressure to have sex. \n",
    "\n",
    "## Data exploring\n",
    "\n",
    "We can examine responses to the attitude questions and how they vary by characteristics such as religion and gender. \n",
    "\n",
    "We will use some statistical tools including tables, bar charts, histograms and summary statistics such as mean and standard deviation. \n",
    "\n",
    "Each will help us to understand the relationship between religion and attitudes towards sex.    \n"
   ]
  },
  {
   "cell_type": "markdown",
   "id": "c6b5c624",
   "metadata": {},
   "source": [
    "# Get started \n",
    "\n",
    "We need to start by opening the data. Run the code below to open the dataset and view a snapshot of the data. "
   ]
  },
  {
   "cell_type": "code",
   "execution_count": 6,
   "id": "8dd296b2",
   "metadata": {},
   "outputs": [
    {
     "data": {
      "text/html": [
       "<table class=\"dataframe\">\n",
       "<caption>A tibble: 6 × 20</caption>\n",
       "<thead>\n",
       "\t<tr><th scope=col>agrp</th><th scope=col>rsex</th><th scope=col>ethnicgrpr</th><th scope=col>sexidr</th><th scope=col>rnssecgp_6</th><th scope=col>adj_imd_quintile</th><th scope=col>rwcasual</th><th scope=col>snnolov</th><th scope=col>snpres</th><th scope=col>snold</th><th scope=col>snsexdrv</th><th scope=col>snmedia</th><th scope=col>snearly</th><th scope=col>attconservative</th><th scope=col>dage1ch</th><th scope=col>disabil2</th><th scope=col>depscr</th><th scope=col>religimp</th><th scope=col>relstatr</th><th scope=col>total_wt</th></tr>\n",
       "\t<tr><th scope=col>&lt;dbl+lbl&gt;</th><th scope=col>&lt;fct&gt;</th><th scope=col>&lt;dbl+lbl&gt;</th><th scope=col>&lt;dbl+lbl&gt;</th><th scope=col>&lt;dbl+lbl&gt;</th><th scope=col>&lt;dbl+lbl&gt;</th><th scope=col>&lt;dbl+lbl&gt;</th><th scope=col>&lt;fct&gt;</th><th scope=col>&lt;fct&gt;</th><th scope=col>&lt;dbl+lbl&gt;</th><th scope=col>&lt;dbl+lbl&gt;</th><th scope=col>&lt;fct&gt;</th><th scope=col>&lt;fct&gt;</th><th scope=col>&lt;dbl&gt;</th><th scope=col>&lt;dbl+lbl&gt;</th><th scope=col>&lt;dbl+lbl&gt;</th><th scope=col>&lt;dbl+lbl&gt;</th><th scope=col>&lt;fct&gt;</th><th scope=col>&lt;dbl+lbl&gt;</th><th scope=col>&lt;dbl&gt;</th></tr>\n",
       "</thead>\n",
       "<tbody>\n",
       "\t<tr><td>2</td><td>Male  </td><td>1</td><td>1</td><td>4</td><td>3</td><td>1</td><td>Disagree         </td><td>Agree                    </td><td>2</td><td>2</td><td>Agree         </td><td>Agree strongly           </td><td> 1.3665446</td><td>NA</td><td>1</td><td> 0</td><td>Fairly important    </td><td> 7</td><td>0.4605145</td></tr>\n",
       "\t<tr><td>3</td><td>Female</td><td>1</td><td>1</td><td>5</td><td>3</td><td>5</td><td>Agree            </td><td>Neither agree or disagree</td><td>4</td><td>4</td><td>Disagree      </td><td>Neither agree or disagree</td><td>-2.3896493</td><td>NA</td><td>1</td><td> 0</td><td>Not important at all</td><td> 2</td><td>1.9239441</td></tr>\n",
       "\t<tr><td>1</td><td>Female</td><td>1</td><td>1</td><td>8</td><td>4</td><td>3</td><td>Agree            </td><td>Disagree                 </td><td>4</td><td>2</td><td>Agree         </td><td>Agree                    </td><td>-0.7515043</td><td>NA</td><td>1</td><td> 0</td><td>Not very important  </td><td> 3</td><td>1.0208558</td></tr>\n",
       "\t<tr><td>4</td><td>Female</td><td>2</td><td>2</td><td>5</td><td>5</td><td>1</td><td>Disagree strongly</td><td>Disagree                 </td><td>8</td><td>3</td><td>Agree strongly</td><td>Agree strongly           </td><td>        NA</td><td>28</td><td>1</td><td> 1</td><td>Very important      </td><td>NA</td><td>0.8074293</td></tr>\n",
       "\t<tr><td>2</td><td>Male  </td><td>2</td><td>2</td><td>1</td><td>5</td><td>1</td><td>Disagree strongly</td><td>NA                       </td><td>8</td><td>4</td><td>NA            </td><td>Agree strongly           </td><td>        NA</td><td>23</td><td>1</td><td> 0</td><td>Very important      </td><td> 1</td><td>1.0390816</td></tr>\n",
       "\t<tr><td>1</td><td>Female</td><td>2</td><td>1</td><td>8</td><td>4</td><td>1</td><td>Disagree strongly</td><td>Agree strongly           </td><td>4</td><td>2</td><td>Agree         </td><td>Agree                    </td><td> 0.9944980</td><td>NA</td><td>1</td><td>NA</td><td>Very important      </td><td> 7</td><td>0.5381795</td></tr>\n",
       "</tbody>\n",
       "</table>\n"
      ],
      "text/latex": [
       "A tibble: 6 × 20\n",
       "\\begin{tabular}{llllllllllllllllllll}\n",
       " agrp & rsex & ethnicgrpr & sexidr & rnssecgp\\_6 & adj\\_imd\\_quintile & rwcasual & snnolov & snpres & snold & snsexdrv & snmedia & snearly & attconservative & dage1ch & disabil2 & depscr & religimp & relstatr & total\\_wt\\\\\n",
       " <dbl+lbl> & <fct> & <dbl+lbl> & <dbl+lbl> & <dbl+lbl> & <dbl+lbl> & <dbl+lbl> & <fct> & <fct> & <dbl+lbl> & <dbl+lbl> & <fct> & <fct> & <dbl> & <dbl+lbl> & <dbl+lbl> & <dbl+lbl> & <fct> & <dbl+lbl> & <dbl>\\\\\n",
       "\\hline\n",
       "\t 2 & Male   & 1 & 1 & 4 & 3 & 1 & Disagree          & Agree                     & 2 & 2 & Agree          & Agree strongly            &  1.3665446 & NA & 1 &  0 & Fairly important     &  7 & 0.4605145\\\\\n",
       "\t 3 & Female & 1 & 1 & 5 & 3 & 5 & Agree             & Neither agree or disagree & 4 & 4 & Disagree       & Neither agree or disagree & -2.3896493 & NA & 1 &  0 & Not important at all &  2 & 1.9239441\\\\\n",
       "\t 1 & Female & 1 & 1 & 8 & 4 & 3 & Agree             & Disagree                  & 4 & 2 & Agree          & Agree                     & -0.7515043 & NA & 1 &  0 & Not very important   &  3 & 1.0208558\\\\\n",
       "\t 4 & Female & 2 & 2 & 5 & 5 & 1 & Disagree strongly & Disagree                  & 8 & 3 & Agree strongly & Agree strongly            &         NA & 28 & 1 &  1 & Very important       & NA & 0.8074293\\\\\n",
       "\t 2 & Male   & 2 & 2 & 1 & 5 & 1 & Disagree strongly & NA                        & 8 & 4 & NA             & Agree strongly            &         NA & 23 & 1 &  0 & Very important       &  1 & 1.0390816\\\\\n",
       "\t 1 & Female & 2 & 1 & 8 & 4 & 1 & Disagree strongly & Agree strongly            & 4 & 2 & Agree          & Agree                     &  0.9944980 & NA & 1 & NA & Very important       &  7 & 0.5381795\\\\\n",
       "\\end{tabular}\n"
      ],
      "text/markdown": [
       "\n",
       "A tibble: 6 × 20\n",
       "\n",
       "| agrp &lt;dbl+lbl&gt; | rsex &lt;fct&gt; | ethnicgrpr &lt;dbl+lbl&gt; | sexidr &lt;dbl+lbl&gt; | rnssecgp_6 &lt;dbl+lbl&gt; | adj_imd_quintile &lt;dbl+lbl&gt; | rwcasual &lt;dbl+lbl&gt; | snnolov &lt;fct&gt; | snpres &lt;fct&gt; | snold &lt;dbl+lbl&gt; | snsexdrv &lt;dbl+lbl&gt; | snmedia &lt;fct&gt; | snearly &lt;fct&gt; | attconservative &lt;dbl&gt; | dage1ch &lt;dbl+lbl&gt; | disabil2 &lt;dbl+lbl&gt; | depscr &lt;dbl+lbl&gt; | religimp &lt;fct&gt; | relstatr &lt;dbl+lbl&gt; | total_wt &lt;dbl&gt; |\n",
       "|---|---|---|---|---|---|---|---|---|---|---|---|---|---|---|---|---|---|---|---|\n",
       "| 2 | Male   | 1 | 1 | 4 | 3 | 1 | Disagree          | Agree                     | 2 | 2 | Agree          | Agree strongly            |  1.3665446 | NA | 1 |  0 | Fairly important     |  7 | 0.4605145 |\n",
       "| 3 | Female | 1 | 1 | 5 | 3 | 5 | Agree             | Neither agree or disagree | 4 | 4 | Disagree       | Neither agree or disagree | -2.3896493 | NA | 1 |  0 | Not important at all |  2 | 1.9239441 |\n",
       "| 1 | Female | 1 | 1 | 8 | 4 | 3 | Agree             | Disagree                  | 4 | 2 | Agree          | Agree                     | -0.7515043 | NA | 1 |  0 | Not very important   |  3 | 1.0208558 |\n",
       "| 4 | Female | 2 | 2 | 5 | 5 | 1 | Disagree strongly | Disagree                  | 8 | 3 | Agree strongly | Agree strongly            |         NA | 28 | 1 |  1 | Very important       | NA | 0.8074293 |\n",
       "| 2 | Male   | 2 | 2 | 1 | 5 | 1 | Disagree strongly | NA                        | 8 | 4 | NA             | Agree strongly            |         NA | 23 | 1 |  0 | Very important       |  1 | 1.0390816 |\n",
       "| 1 | Female | 2 | 1 | 8 | 4 | 1 | Disagree strongly | Agree strongly            | 4 | 2 | Agree          | Agree                     |  0.9944980 | NA | 1 | NA | Very important       |  7 | 0.5381795 |\n",
       "\n"
      ],
      "text/plain": [
       "  agrp rsex   ethnicgrpr sexidr rnssecgp_6 adj_imd_quintile rwcasual\n",
       "1 2    Male   1          1      4          3                1       \n",
       "2 3    Female 1          1      5          3                5       \n",
       "3 1    Female 1          1      8          4                3       \n",
       "4 4    Female 2          2      5          5                1       \n",
       "5 2    Male   2          2      1          5                1       \n",
       "6 1    Female 2          1      8          4                1       \n",
       "  snnolov           snpres                    snold snsexdrv snmedia       \n",
       "1 Disagree          Agree                     2     2        Agree         \n",
       "2 Agree             Neither agree or disagree 4     4        Disagree      \n",
       "3 Agree             Disagree                  4     2        Agree         \n",
       "4 Disagree strongly Disagree                  8     3        Agree strongly\n",
       "5 Disagree strongly NA                        8     4        NA            \n",
       "6 Disagree strongly Agree strongly            4     2        Agree         \n",
       "  snearly                   attconservative dage1ch disabil2 depscr\n",
       "1 Agree strongly             1.3665446      NA      1         0    \n",
       "2 Neither agree or disagree -2.3896493      NA      1         0    \n",
       "3 Agree                     -0.7515043      NA      1         0    \n",
       "4 Agree strongly                    NA      28      1         1    \n",
       "5 Agree strongly                    NA      23      1         0    \n",
       "6 Agree                      0.9944980      NA      1        NA    \n",
       "  religimp             relstatr total_wt \n",
       "1 Fairly important      7       0.4605145\n",
       "2 Not important at all  2       1.9239441\n",
       "3 Not very important    3       1.0208558\n",
       "4 Very important       NA       0.8074293\n",
       "5 Very important        1       1.0390816\n",
       "6 Very important        7       0.5381795"
      ]
     },
     "metadata": {},
     "output_type": "display_data"
    }
   ],
   "source": [
    "setwd(\"C:/Users/rjpra/OneDrive/Documents/GitHub/Explore-UKDS-data/Data\")\n",
    "ntsl3 <- haven::read_sav(\"UKDA-8786-spss/spss/spss25/natsal_3_teaching_open.sav\")\n",
    "ntsl3$religimp <- as_factor(ntsl3$religimp) \n",
    "ntsl3$snnolov <- as_factor(ntsl3$snnolov) \n",
    "ntsl3$snnolov <-recode_factor(ntsl3$snnolov, \"Don't know\" = NA_character_)\n",
    "ntsl3$snpres <- as_factor(ntsl3$snpres) \n",
    "ntsl3$snpres <-recode_factor(ntsl3$snpres, \"Don't know\" = NA_character_)\n",
    "ntsl3$snmedia<- as_factor(ntsl3$snmedia) \n",
    "ntsl3$snmedia <-recode_factor(ntsl3$snmedia, \"Don't know\" = NA_character_)\n",
    "ntsl3$snearly<- as_factor(ntsl3$snearly) \n",
    "ntsl3$snearly <-recode_factor(ntsl3$snearly, \"Don't know\" = NA_character_)\n",
    "ntsl3$rsex<- as_factor(ntsl3$rsex) \n",
    "head(ntsl3)\n"
   ]
  },
  {
   "cell_type": "markdown",
   "id": "a9dfe7ae",
   "metadata": {},
   "source": [
    "***Questions***\n",
    "\n",
    "* How many variables are in the dataset?\n",
    "\n",
    "***Data Tip***: ***Variables*** *contain information. In this case, they each contain information about people who completed the survey. They each have a name; sometimes, you can the information the variable contains from the name while other times it is less clear. What do you think the first variable 'agrp' refers to?*"
   ]
  },
  {
   "cell_type": "markdown",
   "id": "eb6b4f91",
   "metadata": {},
   "source": [
    "## How religious are we?\n",
    "\n",
    "We'll start by looking at religious beliefs. The survey asks those taking part about the importance of religion and religious beliefs (the variable is called 'religimp'). \n",
    "\n",
    "Let's look at the responses using a frequency table. \n",
    "\n",
    "***Data tip***: ***Frequency tables*** *are an easy way to display the distribution of data, specifically nominal and ordinal variables.*  "
   ]
  },
  {
   "cell_type": "code",
   "execution_count": 7,
   "id": "7c7e4f09",
   "metadata": {},
   "outputs": [
    {
     "data": {
      "text/html": [
       "<table class=\"dataframe\">\n",
       "<caption>A tabyl: 5 × 3</caption>\n",
       "<thead>\n",
       "\t<tr><th></th><th scope=col>ntsl3$religimp</th><th scope=col>n</th><th scope=col>percent</th></tr>\n",
       "\t<tr><th></th><th scope=col>&lt;chr&gt;</th><th scope=col>&lt;dbl&gt;</th><th scope=col>&lt;chr&gt;</th></tr>\n",
       "</thead>\n",
       "<tbody>\n",
       "\t<tr><th scope=row>1</th><td>Very important      </td><td> 550</td><td>15% </td></tr>\n",
       "\t<tr><th scope=row>2</th><td>Fairly important    </td><td> 935</td><td>25% </td></tr>\n",
       "\t<tr><th scope=row>3</th><td>Not very important  </td><td>1102</td><td>29% </td></tr>\n",
       "\t<tr><th scope=row>4</th><td>Not important at all</td><td>1194</td><td>32% </td></tr>\n",
       "\t<tr><th scope=row>5</th><td>Total               </td><td>3781</td><td>100%</td></tr>\n",
       "</tbody>\n",
       "</table>\n"
      ],
      "text/latex": [
       "A tabyl: 5 × 3\n",
       "\\begin{tabular}{r|lll}\n",
       "  & ntsl3\\$religimp & n & percent\\\\\n",
       "  & <chr> & <dbl> & <chr>\\\\\n",
       "\\hline\n",
       "\t1 & Very important       &  550 & 15\\% \\\\\n",
       "\t2 & Fairly important     &  935 & 25\\% \\\\\n",
       "\t3 & Not very important   & 1102 & 29\\% \\\\\n",
       "\t4 & Not important at all & 1194 & 32\\% \\\\\n",
       "\t5 & Total                & 3781 & 100\\%\\\\\n",
       "\\end{tabular}\n"
      ],
      "text/markdown": [
       "\n",
       "A tabyl: 5 × 3\n",
       "\n",
       "| <!--/--> | ntsl3$religimp &lt;chr&gt; | n &lt;dbl&gt; | percent &lt;chr&gt; |\n",
       "|---|---|---|---|\n",
       "| 1 | Very important       |  550 | 15%  |\n",
       "| 2 | Fairly important     |  935 | 25%  |\n",
       "| 3 | Not very important   | 1102 | 29%  |\n",
       "| 4 | Not important at all | 1194 | 32%  |\n",
       "| 5 | Total                | 3781 | 100% |\n",
       "\n"
      ],
      "text/plain": [
       "  ntsl3$religimp       n    percent\n",
       "1 Very important        550 15%    \n",
       "2 Fairly important      935 25%    \n",
       "3 Not very important   1102 29%    \n",
       "4 Not important at all 1194 32%    \n",
       "5 Total                3781 100%   "
      ]
     },
     "metadata": {},
     "output_type": "display_data"
    }
   ],
   "source": [
    "#this code gives a table for the religious variable. \n",
    "religious <- tabyl(ntsl3$religimp, sort = TRUE, show_missing_levels = FALSE, show_na = FALSE)\n",
    "religious %>% \n",
    "  adorn_totals(\"row\") %>%\n",
    "  adorn_pct_formatting(digits=0) \n"
   ]
  },
  {
   "cell_type": "markdown",
   "id": "67b7fc38",
   "metadata": {},
   "source": [
    "\n",
    "***Questions***\n",
    " \n",
    " * The most common response was ‘not important at all’. What percentage gave this response?\n",
    "\n",
    " * What percentage indicate religion and religious beliefs are very important?\n",
    " \n",
    "As reported in the [Guardian newspaper](https://www.theguardian.com/world/2019/jul/11/uk-secularism-on-rise-as-more-than-half-say-they-have-no-religion), these responses fit with other research that show less than half of the British public belong to a religion."
   ]
  },
  {
   "cell_type": "markdown",
   "id": "9d57baed",
   "metadata": {},
   "source": [
    "# Views about sex\n",
    "\n",
    "How can we find out about sexual attitudes and behaviour? \n",
    "\n",
    "The survey asked respondents if they agreed strongly, agreed, neither agreed nor disagreed, disagreed, disagreed strongly with the following statements:\n",
    "* It’s OK to have sex with someone without being in love with them (snnolov)\n",
    "* People are under a lot of pressure to have sex nowadays (snpres)\n",
    "* It is natural for people to want sex less as they get older (snold)\n",
    "* Men have a naturally higher sex drive than women (snsexdrv)\n",
    "* There’s too much sex in the media these days (snmedia)\n",
    "* Young people today start having sex too early (snearly)\n",
    "\n",
    "They also asked:\n",
    "* What is your opinion about a person having one night stands? Right/wrong (rwcasual)\n",
    "\n",
    "The text in brakets are the variable names.  \n",
    "\n",
    "## Sex without love\n",
    "We will start by examining responses to the question about sex without love. \n",
    "\n"
   ]
  },
  {
   "cell_type": "code",
   "execution_count": 8,
   "id": "8762998c",
   "metadata": {},
   "outputs": [
    {
     "data": {
      "text/html": [
       "<table class=\"dataframe\">\n",
       "<caption>A tabyl: 6 × 3</caption>\n",
       "<thead>\n",
       "\t<tr><th></th><th scope=col>ntsl3$snnolov</th><th scope=col>n</th><th scope=col>percent</th></tr>\n",
       "\t<tr><th></th><th scope=col>&lt;chr&gt;</th><th scope=col>&lt;dbl&gt;</th><th scope=col>&lt;chr&gt;</th></tr>\n",
       "</thead>\n",
       "<tbody>\n",
       "\t<tr><th scope=row>1</th><td>Agree strongly           </td><td> 468</td><td>12% </td></tr>\n",
       "\t<tr><th scope=row>2</th><td>Agree                    </td><td>1571</td><td>42% </td></tr>\n",
       "\t<tr><th scope=row>3</th><td>Neither agree or disagree</td><td> 904</td><td>24% </td></tr>\n",
       "\t<tr><th scope=row>4</th><td>Disagree                 </td><td> 565</td><td>15% </td></tr>\n",
       "\t<tr><th scope=row>5</th><td>Disagree strongly        </td><td> 257</td><td>7%  </td></tr>\n",
       "\t<tr><th scope=row>6</th><td>Total                    </td><td>3765</td><td>100%</td></tr>\n",
       "</tbody>\n",
       "</table>\n"
      ],
      "text/latex": [
       "A tabyl: 6 × 3\n",
       "\\begin{tabular}{r|lll}\n",
       "  & ntsl3\\$snnolov & n & percent\\\\\n",
       "  & <chr> & <dbl> & <chr>\\\\\n",
       "\\hline\n",
       "\t1 & Agree strongly            &  468 & 12\\% \\\\\n",
       "\t2 & Agree                     & 1571 & 42\\% \\\\\n",
       "\t3 & Neither agree or disagree &  904 & 24\\% \\\\\n",
       "\t4 & Disagree                  &  565 & 15\\% \\\\\n",
       "\t5 & Disagree strongly         &  257 & 7\\%  \\\\\n",
       "\t6 & Total                     & 3765 & 100\\%\\\\\n",
       "\\end{tabular}\n"
      ],
      "text/markdown": [
       "\n",
       "A tabyl: 6 × 3\n",
       "\n",
       "| <!--/--> | ntsl3$snnolov &lt;chr&gt; | n &lt;dbl&gt; | percent &lt;chr&gt; |\n",
       "|---|---|---|---|\n",
       "| 1 | Agree strongly            |  468 | 12%  |\n",
       "| 2 | Agree                     | 1571 | 42%  |\n",
       "| 3 | Neither agree or disagree |  904 | 24%  |\n",
       "| 4 | Disagree                  |  565 | 15%  |\n",
       "| 5 | Disagree strongly         |  257 | 7%   |\n",
       "| 6 | Total                     | 3765 | 100% |\n",
       "\n"
      ],
      "text/plain": [
       "  ntsl3$snnolov             n    percent\n",
       "1 Agree strongly             468 12%    \n",
       "2 Agree                     1571 42%    \n",
       "3 Neither agree or disagree  904 24%    \n",
       "4 Disagree                   565 15%    \n",
       "5 Disagree strongly          257 7%     \n",
       "6 Total                     3765 100%   "
      ]
     },
     "metadata": {},
     "output_type": "display_data"
    }
   ],
   "source": [
    "#this code gives a table for the sex without love variable. \n",
    "attitude <- tabyl(ntsl3$snnolov, sort = TRUE,  show_missing_levels = FALSE, show_na = FALSE)\n",
    "attitude %>%\n",
    "  adorn_totals(\"row\") %>%\n",
    "adorn_pct_formatting(digits=0)\n"
   ]
  },
  {
   "cell_type": "markdown",
   "id": "f80d5667",
   "metadata": {},
   "source": [
    "***Questions***\n",
    "\n",
    "* What percentage agree that sex without love is OK? \n",
    "* What percetage disagree strongly that sex without love is OK?\n",
    "\n",
    "***Answers***\n",
    "* 54 percent either agree or agree strongly sex without love is ok\n",
    "* 7 percent disagree strongly\n",
    "\n",
    "\n",
    "So from the data here, it seems just over half the British public are comfortable with the idea of casual sex. About quarter don't give a strong opinion one way or the other and just under a quarter feel sex without love is not ok. \n",
    "\n",
    "## Your choice\n",
    "\n",
    "Pick one of the other variables below and edit the code to make a similar table. The variables are  \n",
    "\n",
    "* People are under a lot of pressure to have sex nowadays (snpres)\n",
    "* There’s too much sex in the media these days (snmedia)\n",
    "* Young people today start having sex too early (snearly)\n",
    "\n",
    "Add the variable name (snpres, snmedia or snearly) to the code below in place of the *****  "
   ]
  },
  {
   "cell_type": "code",
   "execution_count": 9,
   "id": "6b288049",
   "metadata": {},
   "outputs": [
    {
     "ename": "ERROR",
     "evalue": "Error in parse(text = x, srcfile = src): <text>:2:25: unexpected '^'\n1: #this code gives a table for a variable of your choice. \n2: attitude <- tabyl(ntsl3$**\n                           ^\n",
     "output_type": "error",
     "traceback": [
      "Error in parse(text = x, srcfile = src): <text>:2:25: unexpected '^'\n1: #this code gives a table for a variable of your choice. \n2: attitude <- tabyl(ntsl3$**\n                           ^\nTraceback:\n"
     ]
    }
   ],
   "source": [
    "#this code gives a table for a variable of your choice. \n",
    "attitude <- tabyl(ntsl3$*****, sort = TRUE,  show_missing_levels = FALSE, show_na = FALSE)\n",
    "attitude %>%\n",
    "  adorn_totals(\"row\") %>%\n",
    "adorn_pct_formatting(digits=0)"
   ]
  },
  {
   "cell_type": "markdown",
   "id": "876a73d9",
   "metadata": {},
   "source": [
    "### Sexually conservative attitudes\n",
    "\n",
    "The dataset also contains a scale measuring conservative attitudes towards sex. Each person in the data gets one overall score based on their responses to the vaired questions about sex and sexual lifestyles. The higher the score,  the more conservative their attitues are. \n",
    "\n",
    "Use the code to produce a histogram and summary information about scores. Can you use the information to answer the questions below? \n",
    "\n",
    "***Data tip***\n",
    "\n",
    "***Histograms*** *are a way to display the distribution of data.The bars represent the number of responses at points along the scale.* \n",
    "\n",
    "***Mean*** *,* \n",
    "\n",
    "***Median*** *,* "
   ]
  },
  {
   "cell_type": "code",
   "execution_count": null,
   "id": "f752ad27",
   "metadata": {},
   "outputs": [],
   "source": [
    "# produce mean score and histogram \n",
    "hist(ntsl3$attconservative,\n",
    "     main=\"Histogram of conservative attitudes towards sex\")\n",
    "\n",
    "summary(ntsl3$attconservative, na.rm = T, digits=1)"
   ]
  },
  {
   "cell_type": "markdown",
   "id": "8361b338",
   "metadata": {},
   "source": [
    "***Questions***\n",
    "\n",
    "* What is the highest score for this variable?\n",
    "* What would scores of the most liberal attitudes towards sex have? \n",
    "* What's the most typical score in this scale? "
   ]
  },
  {
   "cell_type": "markdown",
   "id": "9bfb1123",
   "metadata": {},
   "source": [
    "Looking at the distribution of scores for the whole sample, we find out that the average score is -0.02 (mean and median). Values range from -4 to 3 - so scores around 0 are most typical. \n",
    "The maximum positive score is 3, which means their attitudes are vary conservative relative to the population as a whole. In the opposite direction, the lowest score is -4, which means their attitudes are very liberal compared to average. \n"
   ]
  },
  {
   "cell_type": "markdown",
   "id": "32c710b5",
   "metadata": {},
   "source": [
    "# Does religion relate to attitudes?\n",
    "\n",
    "Now, let's turn to look at the relationship between religion and attitudes. Secifically, are religious people more likely to disagree that sex without love is ok? On average, do religious people have more conservative attitudes towards sex? \n",
    "\n",
    "First, think about what we might expect to find. Then run the code below to produce a table showing how the percentage of those agreeing or disagreeing varies by religiosity.\n",
    "\n",
    "*Data tip: Two-way tables or cross-tab provide a way of analysing relationships between variables.  They can reveal associations between the subgroups in the variables.*   \n"
   ]
  },
  {
   "cell_type": "code",
   "execution_count": 10,
   "id": "90ec0244",
   "metadata": {},
   "outputs": [
    {
     "data": {
      "text/html": [
       "<table class=\"dataframe\">\n",
       "<caption>A tabyl: 5 × 5</caption>\n",
       "<thead>\n",
       "\t<tr><th scope=col>snnolov</th><th scope=col>Very important</th><th scope=col>Fairly important</th><th scope=col>Not very important</th><th scope=col>Not important at all</th></tr>\n",
       "\t<tr><th scope=col>&lt;fct&gt;</th><th scope=col>&lt;chr&gt;</th><th scope=col>&lt;chr&gt;</th><th scope=col>&lt;chr&gt;</th><th scope=col>&lt;chr&gt;</th></tr>\n",
       "</thead>\n",
       "<tbody>\n",
       "\t<tr><td>Agree strongly           </td><td>6% </td><td>8% </td><td>13%</td><td>18%</td></tr>\n",
       "\t<tr><td>Agree                    </td><td>22%</td><td>39%</td><td>49%</td><td>47%</td></tr>\n",
       "\t<tr><td>Neither agree or disagree</td><td>20%</td><td>30%</td><td>24%</td><td>22%</td></tr>\n",
       "\t<tr><td>Disagree                 </td><td>28%</td><td>17%</td><td>12%</td><td>11%</td></tr>\n",
       "\t<tr><td>Disagree strongly        </td><td>25%</td><td>6% </td><td>3% </td><td>3% </td></tr>\n",
       "</tbody>\n",
       "</table>\n"
      ],
      "text/latex": [
       "A tabyl: 5 × 5\n",
       "\\begin{tabular}{lllll}\n",
       " snnolov & Very important & Fairly important & Not very important & Not important at all\\\\\n",
       " <fct> & <chr> & <chr> & <chr> & <chr>\\\\\n",
       "\\hline\n",
       "\t Agree strongly            & 6\\%  & 8\\%  & 13\\% & 18\\%\\\\\n",
       "\t Agree                     & 22\\% & 39\\% & 49\\% & 47\\%\\\\\n",
       "\t Neither agree or disagree & 20\\% & 30\\% & 24\\% & 22\\%\\\\\n",
       "\t Disagree                  & 28\\% & 17\\% & 12\\% & 11\\%\\\\\n",
       "\t Disagree strongly         & 25\\% & 6\\%  & 3\\%  & 3\\% \\\\\n",
       "\\end{tabular}\n"
      ],
      "text/markdown": [
       "\n",
       "A tabyl: 5 × 5\n",
       "\n",
       "| snnolov &lt;fct&gt; | Very important &lt;chr&gt; | Fairly important &lt;chr&gt; | Not very important &lt;chr&gt; | Not important at all &lt;chr&gt; |\n",
       "|---|---|---|---|---|\n",
       "| Agree strongly            | 6%  | 8%  | 13% | 18% |\n",
       "| Agree                     | 22% | 39% | 49% | 47% |\n",
       "| Neither agree or disagree | 20% | 30% | 24% | 22% |\n",
       "| Disagree                  | 28% | 17% | 12% | 11% |\n",
       "| Disagree strongly         | 25% | 6%  | 3%  | 3%  |\n",
       "\n"
      ],
      "text/plain": [
       "  snnolov                   Very important Fairly important Not very important\n",
       "1 Agree strongly            6%             8%               13%               \n",
       "2 Agree                     22%            39%              49%               \n",
       "3 Neither agree or disagree 20%            30%              24%               \n",
       "4 Disagree                  28%            17%              12%               \n",
       "5 Disagree strongly         25%            6%               3%                \n",
       "  Not important at all\n",
       "1 18%                 \n",
       "2 47%                 \n",
       "3 22%                 \n",
       "4 11%                 \n",
       "5 3%                  "
      ]
     },
     "metadata": {},
     "output_type": "display_data"
    }
   ],
   "source": [
    "SexReligion <- ntsl3 %>% \n",
    "  tabyl(snnolov, religimp, show_missing_levels = FALSE, show_na = FALSE)\n",
    "\n",
    "SexReligion %>%\n",
    "  adorn_percentages(\"col\", na.rm=TRUE) %>%\n",
    "  adorn_pct_formatting(digits = 0) "
   ]
  },
  {
   "cell_type": "markdown",
   "id": "2d95fbeb",
   "metadata": {},
   "source": [
    "**Questions**\n",
    "* For those indicating religion is very important, what percent disagreed that sex without love was OK? \n",
    "* What is the percetage disagreeing strongly for those indicating relgision is not very important?\n"
   ]
  },
  {
   "cell_type": "markdown",
   "id": "6819225e",
   "metadata": {},
   "source": [
    "The figures crosstabulation show that those viewing religion and religious beliefs are important are less likley to agree that sex without love is ok. More than half of those who state that their religion is very important to them either disagreed of disagreed strongly that sex without love was okay, whilst only 13% of those who considered their religion not important at all either disagreed or disagreed strongly with this statement. \n",
    "\n",
    " "
   ]
  },
  {
   "cell_type": "markdown",
   "id": "2fb0f7ef",
   "metadata": {},
   "source": [
    "### Do those who are religious have more conservative attitudes on ? \n",
    "\n",
    "We can also compare scores using our sexually conservative attitudes scale (remember that higher scores mean more conservative attitudes). \n",
    "\n",
    "We might expect religious people will have higher scores on average. Does this appear in the data? One way to examine this is to plot the means for each level of religiosity on a bar chart to see how scores vary.  \n"
   ]
  },
  {
   "cell_type": "code",
   "execution_count": 12,
   "id": "6cbb4e57",
   "metadata": {},
   "outputs": [
    {
     "data": {
      "image/png": "[encoded data removed]",
      "text/plain": [
       "plot without title"
      ]
     },
     "metadata": {
      "image/png": {
       "height": 420,
       "width": 420
      }
     },
     "output_type": "display_data"
    }
   ],
   "source": [
    "# Create summary data\n",
    "lr_gen <- ntsl3 %>%\n",
    "    group_by(religimp) %>%\n",
    "  summarize(n = mean(attconservative, na.rm = T))\n",
    "\n",
    "ggplot(data=subset(lr_gen, !is.na(religimp)), aes (x= religimp, y=n)) + \n",
    "geom_bar (aes (fill = religimp), stat =\"identity\") + \n",
    "theme_minimal ()+\n",
    "labs(title = \"Sexually conservative attitudes by religion\") +\n",
    "labs(x = \"Importance of religion and religious beliefs\") +\n",
    "labs (y= \"Mean score on scale of sexually conservative attitudes\")+\n",
    "theme(legend.position = \"none\", text = element_text(size = 15))"
   ]
  },
  {
   "cell_type": "markdown",
   "id": "37daf8e8",
   "metadata": {},
   "source": [
    "The association between religion and conservative attitudes towards sex is found in other studies (see for example, [Steves, Carson and Pratt, 2002](https://www.tandfonline.com/doi/abs/10.2202/1940-1639.1338)). \n",
    "\n",
    "Our results indicate that despite major shifts in attitudes and religosity, those placing value on religion and religious beliefs remain likely to have distinctive attitudes towards sex in the British population.\n",
    "\n",
    "  \n",
    "\n",
    "\n"
   ]
  },
  {
   "cell_type": "markdown",
   "id": "0803e991",
   "metadata": {},
   "source": [
    "# What about gender?\n"
   ]
  },
  {
   "cell_type": "markdown",
   "id": "dc10c580",
   "metadata": {},
   "source": [
    "Up to this point, we have examined the association between attitudes towards sex and religion for the population as a whole. However, we may find that these associations are not the same for all population groups. We will explore whether there are differences by gender."
   ]
  },
  {
   "cell_type": "code",
   "execution_count": 17,
   "id": "43fe2880",
   "metadata": {},
   "outputs": [
    {
     "data": {
      "image/png": "[encoded data removed]",
      "text/plain": [
       "plot without title"
      ]
     },
     "metadata": {
      "image/png": {
       "height": 420,
       "width": 420
      }
     },
     "output_type": "display_data"
    }
   ],
   "source": [
    "lr_gen <- ntsl3 %>%\n",
    "    group_by(religimp) %>%\n",
    "  summarize(n = mean(attconservative, na.rm = T))\n",
    "\n",
    "ggplot(data=subset(lr_gen, !is.na(religimp)), aes (x= religimp, y=n)) + \n",
    "geom_bar (aes (fill = religimp), stat =\"identity\") + \n",
    "theme_minimal ()+\n",
    "labs(title = \"Sexually conservative attitudes by religion\") +\n",
    "labs(x = \"Importance of religion and religious beliefs\") +\n",
    "labs (y= \"Mean score on scale of sexually conservative attitudes\")+\n",
    "theme(legend.position = \"none\", text = element_text(size = 15))\n"
   ]
  },
  {
   "cell_type": "code",
   "execution_count": null,
   "id": "e52d6abd",
   "metadata": {},
   "outputs": [],
   "source": [
    "\n",
    "Gender <- ntsl3 %>% \n",
    "  tabyl(snnolov, rsex, show_missing_levels = FALSE, show_na = FALSE)\n",
    "\n",
    "Gender %>%\n",
    "  adorn_percentages(\"col\", na.rm=TRUE) %>%\n",
    "  adorn_pct_formatting(digits = 0) "
   ]
  },
  {
   "cell_type": "code",
   "execution_count": 14,
   "id": "d1bb1734",
   "metadata": {},
   "outputs": [
    {
     "data": {
      "text/html": [
       "<dl>\n",
       "\t<dt>$Male</dt>\n",
       "\t\t<dd><table class=\"dataframe\">\n",
       "<caption>A tabyl: 5 × 5</caption>\n",
       "<thead>\n",
       "\t<tr><th scope=col>snnolov</th><th scope=col>Very important</th><th scope=col>Fairly important</th><th scope=col>Not very important</th><th scope=col>Not important at all</th></tr>\n",
       "\t<tr><th scope=col>&lt;fct&gt;</th><th scope=col>&lt;chr&gt;</th><th scope=col>&lt;chr&gt;</th><th scope=col>&lt;chr&gt;</th><th scope=col>&lt;chr&gt;</th></tr>\n",
       "</thead>\n",
       "<tbody>\n",
       "\t<tr><td>Agree strongly           </td><td>6% </td><td>13%</td><td>17%</td><td>20%</td></tr>\n",
       "\t<tr><td>Agree                    </td><td>31%</td><td>43%</td><td>53%</td><td>51%</td></tr>\n",
       "\t<tr><td>Neither agree or disagree</td><td>20%</td><td>30%</td><td>19%</td><td>18%</td></tr>\n",
       "\t<tr><td>Disagree                 </td><td>25%</td><td>11%</td><td>10%</td><td>8% </td></tr>\n",
       "\t<tr><td>Disagree strongly        </td><td>18%</td><td>3% </td><td>1% </td><td>2% </td></tr>\n",
       "</tbody>\n",
       "</table>\n",
       "</dd>\n",
       "\t<dt>$Female</dt>\n",
       "\t\t<dd><table class=\"dataframe\">\n",
       "<caption>A tabyl: 5 × 5</caption>\n",
       "<thead>\n",
       "\t<tr><th scope=col>snnolov</th><th scope=col>Very important</th><th scope=col>Fairly important</th><th scope=col>Not very important</th><th scope=col>Not important at all</th></tr>\n",
       "\t<tr><th scope=col>&lt;fct&gt;</th><th scope=col>&lt;chr&gt;</th><th scope=col>&lt;chr&gt;</th><th scope=col>&lt;chr&gt;</th><th scope=col>&lt;chr&gt;</th></tr>\n",
       "</thead>\n",
       "<tbody>\n",
       "\t<tr><td>Agree strongly           </td><td>5% </td><td>6% </td><td>11%</td><td>16%</td></tr>\n",
       "\t<tr><td>Agree                    </td><td>18%</td><td>36%</td><td>46%</td><td>42%</td></tr>\n",
       "\t<tr><td>Neither agree or disagree</td><td>20%</td><td>30%</td><td>26%</td><td>25%</td></tr>\n",
       "\t<tr><td>Disagree                 </td><td>29%</td><td>20%</td><td>13%</td><td>13%</td></tr>\n",
       "\t<tr><td>Disagree strongly        </td><td>28%</td><td>8% </td><td>4% </td><td>3% </td></tr>\n",
       "</tbody>\n",
       "</table>\n",
       "</dd>\n",
       "</dl>\n"
      ],
      "text/latex": [
       "\\begin{description}\n",
       "\\item[\\$Male] A tabyl: 5 × 5\n",
       "\\begin{tabular}{lllll}\n",
       " snnolov & Very important & Fairly important & Not very important & Not important at all\\\\\n",
       " <fct> & <chr> & <chr> & <chr> & <chr>\\\\\n",
       "\\hline\n",
       "\t Agree strongly            & 6\\%  & 13\\% & 17\\% & 20\\%\\\\\n",
       "\t Agree                     & 31\\% & 43\\% & 53\\% & 51\\%\\\\\n",
       "\t Neither agree or disagree & 20\\% & 30\\% & 19\\% & 18\\%\\\\\n",
       "\t Disagree                  & 25\\% & 11\\% & 10\\% & 8\\% \\\\\n",
       "\t Disagree strongly         & 18\\% & 3\\%  & 1\\%  & 2\\% \\\\\n",
       "\\end{tabular}\n",
       "\n",
       "\\item[\\$Female] A tabyl: 5 × 5\n",
       "\\begin{tabular}{lllll}\n",
       " snnolov & Very important & Fairly important & Not very important & Not important at all\\\\\n",
       " <fct> & <chr> & <chr> & <chr> & <chr>\\\\\n",
       "\\hline\n",
       "\t Agree strongly            & 5\\%  & 6\\%  & 11\\% & 16\\%\\\\\n",
       "\t Agree                     & 18\\% & 36\\% & 46\\% & 42\\%\\\\\n",
       "\t Neither agree or disagree & 20\\% & 30\\% & 26\\% & 25\\%\\\\\n",
       "\t Disagree                  & 29\\% & 20\\% & 13\\% & 13\\%\\\\\n",
       "\t Disagree strongly         & 28\\% & 8\\%  & 4\\%  & 3\\% \\\\\n",
       "\\end{tabular}\n",
       "\n",
       "\\end{description}\n"
      ],
      "text/markdown": [
       "$Male\n",
       ":   \n",
       "A tabyl: 5 × 5\n",
       "\n",
       "| snnolov &lt;fct&gt; | Very important &lt;chr&gt; | Fairly important &lt;chr&gt; | Not very important &lt;chr&gt; | Not important at all &lt;chr&gt; |\n",
       "|---|---|---|---|---|\n",
       "| Agree strongly            | 6%  | 13% | 17% | 20% |\n",
       "| Agree                     | 31% | 43% | 53% | 51% |\n",
       "| Neither agree or disagree | 20% | 30% | 19% | 18% |\n",
       "| Disagree                  | 25% | 11% | 10% | 8%  |\n",
       "| Disagree strongly         | 18% | 3%  | 1%  | 2%  |\n",
       "\n",
       "\n",
       "$Female\n",
       ":   \n",
       "A tabyl: 5 × 5\n",
       "\n",
       "| snnolov &lt;fct&gt; | Very important &lt;chr&gt; | Fairly important &lt;chr&gt; | Not very important &lt;chr&gt; | Not important at all &lt;chr&gt; |\n",
       "|---|---|---|---|---|\n",
       "| Agree strongly            | 5%  | 6%  | 11% | 16% |\n",
       "| Agree                     | 18% | 36% | 46% | 42% |\n",
       "| Neither agree or disagree | 20% | 30% | 26% | 25% |\n",
       "| Disagree                  | 29% | 20% | 13% | 13% |\n",
       "| Disagree strongly         | 28% | 8%  | 4%  | 3%  |\n",
       "\n",
       "\n",
       "\n",
       "\n"
      ],
      "text/plain": [
       "$Male\n",
       "                   snnolov Very important Fairly important Not very important\n",
       "            Agree strongly             6%              13%                17%\n",
       "                     Agree            31%              43%                53%\n",
       " Neither agree or disagree            20%              30%                19%\n",
       "                  Disagree            25%              11%                10%\n",
       "         Disagree strongly            18%               3%                 1%\n",
       " Not important at all\n",
       "                  20%\n",
       "                  51%\n",
       "                  18%\n",
       "                   8%\n",
       "                   2%\n",
       "\n",
       "$Female\n",
       "                   snnolov Very important Fairly important Not very important\n",
       "            Agree strongly             5%               6%                11%\n",
       "                     Agree            18%              36%                46%\n",
       " Neither agree or disagree            20%              30%                26%\n",
       "                  Disagree            29%              20%                13%\n",
       "         Disagree strongly            28%               8%                 4%\n",
       " Not important at all\n",
       "                  16%\n",
       "                  42%\n",
       "                  25%\n",
       "                  13%\n",
       "                   3%\n"
      ]
     },
     "metadata": {},
     "output_type": "display_data"
    }
   ],
   "source": [
    "SexReligion <- ntsl3 %>% \n",
    "  tabyl(snnolov, religimp, rsex, show_missing_levels = FALSE, show_na = FALSE)\n",
    "\n",
    "SexReligion %>%\n",
    "  adorn_percentages(\"col\", na.rm=TRUE) %>%\n",
    "  adorn_pct_formatting(digits = 0) "
   ]
  },
  {
   "cell_type": "code",
   "execution_count": null,
   "id": "b78734f0",
   "metadata": {},
   "outputs": [],
   "source": [
    "t.test(attconservative~rsex, data =ntsl3)"
   ]
  },
  {
   "cell_type": "markdown",
   "id": "a1cb8399",
   "metadata": {},
   "source": []
  },
  {
   "cell_type": "markdown",
   "id": "fb2d388b",
   "metadata": {},
   "source": [
    "This resources was created by Phillipa Brown and Jen Buckley, UK Data Service. August 2021. "
   ]
  }
 ],
 "metadata": {
  "kernelspec": {
   "display_name": "R",
   "language": "R",
   "name": "ir"
  },
  "language_info": {
   "codemirror_mode": "r",
   "file_extension": ".r",
   "mimetype": "text/x-r-source",
   "name": "R",
   "pygments_lexer": "r",
   "version": "4.1.1"
  }
 },
 "nbformat": 4,
 "nbformat_minor": 5
}
