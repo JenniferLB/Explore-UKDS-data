{
 "cells": [
  {
   "cell_type": "code",
   "execution_count": 2,
   "id": "fbcb9dd3",
   "metadata": {},
   "outputs": [
    {
     "name": "stderr",
     "output_type": "stream",
     "text": [
      "Installing package into 'C:/Users/rjpra/OneDrive/Documents/R/win-library/4.1'\n",
      "(as 'lib' is unspecified)\n",
      "\n",
      "also installing the dependencies 'bit', 'prettyunits', 'bit64', 'withr', 'progress', 'magrittr', 'pkgconfig', 'clipr', 'R6', 'vroom', 'tzdb', 'purrr', 'forcats', 'hms', 'readr', 'tibble', 'tidyselect', 'cpp11'\n",
      "\n",
      "\n"
     ]
    },
    {
     "name": "stdout",
     "output_type": "stream",
     "text": [
      "\n",
      "  There is a binary version available but the source version is later:\n",
      "      binary source needs_compilation\n",
      "readr  2.0.0  2.0.1              TRUE\n",
      "\n",
      "  Binaries will be installed\n",
      "package 'bit' successfully unpacked and MD5 sums checked\n",
      "package 'prettyunits' successfully unpacked and MD5 sums checked\n",
      "package 'bit64' successfully unpacked and MD5 sums checked\n",
      "package 'withr' successfully unpacked and MD5 sums checked\n",
      "package 'progress' successfully unpacked and MD5 sums checked\n",
      "package 'magrittr' successfully unpacked and MD5 sums checked\n",
      "package 'pkgconfig' successfully unpacked and MD5 sums checked\n",
      "package 'clipr' successfully unpacked and MD5 sums checked\n",
      "package 'R6' successfully unpacked and MD5 sums checked\n",
      "package 'vroom' successfully unpacked and MD5 sums checked\n",
      "package 'tzdb' successfully unpacked and MD5 sums checked\n",
      "package 'purrr' successfully unpacked and MD5 sums checked\n",
      "package 'forcats' successfully unpacked and MD5 sums checked\n",
      "package 'hms' successfully unpacked and MD5 sums checked\n",
      "package 'readr' successfully unpacked and MD5 sums checked\n",
      "package 'tibble' successfully unpacked and MD5 sums checked\n",
      "package 'tidyselect' successfully unpacked and MD5 sums checked\n",
      "package 'cpp11' successfully unpacked and MD5 sums checked\n",
      "package 'haven' successfully unpacked and MD5 sums checked\n",
      "\n",
      "The downloaded binary packages are in\n",
      "\tC:\\Users\\rjpra\\AppData\\Local\\Temp\\Rtmpo3l4mS\\downloaded_packages\n"
     ]
    }
   ],
   "source": [
    "install.packages (\"haven\")"
   ]
  },
  {
   "cell_type": "code",
   "execution_count": 3,
   "id": "8dd296b2",
   "metadata": {},
   "outputs": [
    {
     "ename": "ERROR",
     "evalue": "Error: 'UKDA-8786-spss/spss/spss25/natsal_3_teaching_open.sav' does not exist in current working directory ('C:/Users/rjpra').\n",
     "output_type": "error",
     "traceback": [
      "Error: 'UKDA-8786-spss/spss/spss25/natsal_3_teaching_open.sav' does not exist in current working directory ('C:/Users/rjpra').\nTraceback:\n",
      "1. haven::read_sav(\"UKDA-8786-spss/spss/spss25/natsal_3_teaching_open.sav\")",
      "2. readr::datasource(file)",
      "3. standardise_path(file)",
      "4. check_path(path)",
      "5. stop(\"'\", path, \"' does not exist\", if (!is_absolute_path(path)) {\n .     paste0(\" in current working directory ('\", getwd(), \"')\")\n . }, \".\", call. = FALSE)"
     ]
    }
   ],
   "source": [
    "ntsl3 <- haven::read_sav(\"UKDA-8786-spss/spss/spss25/natsal_3_teaching_open.sav\")\n"
   ]
  },
  {
   "cell_type": "code",
   "execution_count": null,
   "id": "f4152a54",
   "metadata": {},
   "outputs": [],
   "source": []
  }
 ],
 "metadata": {
  "kernelspec": {
   "display_name": "R",
   "language": "R",
   "name": "ir"
  },
  "language_info": {
   "codemirror_mode": "r",
   "file_extension": ".r",
   "mimetype": "text/x-r-source",
   "name": "R",
   "pygments_lexer": "r",
   "version": "4.1.1"
  }
 },
 "nbformat": 4,
 "nbformat_minor": 5
}
