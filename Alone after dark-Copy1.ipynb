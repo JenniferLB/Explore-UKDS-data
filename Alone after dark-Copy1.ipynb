{
 "cells": [
  {
   "cell_type": "markdown",
   "id": "28891af6",
   "metadata": {},
   "source": [
    "# How safe do we feel walking alone after dark?"
   ]
  },
  {
   "cell_type": "markdown",
   "id": "c6a1192e",
   "metadata": {},
   "source": [
    "Here is some text...."
   ]
  },
  {
   "cell_type": "code",
   "execution_count": null,
   "id": "482f2abc",
   "metadata": {},
   "outputs": [],
   "source": []
  }
 ],
 "metadata": {
  "kernelspec": {
   "display_name": "R",
   "language": "R",
   "name": "ir"
  },
  "language_info": {
   "codemirror_mode": "r",
   "file_extension": ".r",
   "mimetype": "text/x-r-source",
   "name": "R",
   "pygments_lexer": "r",
   "version": "3.6.1"
  }
 },
 "nbformat": 4,
 "nbformat_minor": 5
}
